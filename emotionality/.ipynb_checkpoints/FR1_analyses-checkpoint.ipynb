{
 "cells": [
  {
   "cell_type": "code",
   "execution_count": 1,
   "id": "2b5aaa88-e071-4d63-962f-6f800e7c37ee",
   "metadata": {},
   "outputs": [],
   "source": [
    "%matplotlib inline\n",
    "import cmlreaders as cml\n",
    "import pandas_to_pybeh as pb\n",
    "import numpy as np\n",
    "import seaborn as sns\n",
    "import pandas as pd"
   ]
  },
  {
   "cell_type": "code",
   "execution_count": 7,
   "id": "e2f83696-f626-4a38-a423-b513cdf549b3",
   "metadata": {},
   "outputs": [],
   "source": [
    "all_fr1_events = cml.CMLReader.load_events(subjects=[\"R1111M\", \"R1409D\"],\n",
    "                                           experiments=[\"FR1\"])"
   ]
  },
  {
   "cell_type": "code",
   "execution_count": 8,
   "id": "d45a14bd-6d3f-412e-88dc-8f4d5b45caa5",
   "metadata": {},
   "outputs": [
    {
     "name": "stderr",
     "output_type": "stream",
     "text": [
      "/home1/rdehaan/.conda/envs/eeg3/lib/python3.7/site-packages/pandas/core/frame.py:5047: SettingWithCopyWarning: \n",
      "A value is trying to be set on a copy of a slice from a DataFrame\n",
      "\n",
      "See the caveats in the documentation: https://pandas.pydata.org/pandas-docs/stable/user_guide/indexing.html#returning-a-view-versus-a-copy\n",
      "  errors=errors,\n"
     ]
    }
   ],
   "source": [
    "events = all_fr1_events.query('type == [\"WORD\", \"REC_WORD\"]')\n",
    "events.rename(columns={'item_name': 'item'}, inplace=True)\n",
    "events = events[events['list'] > 0]\n",
    "word_evs = events.query('type == \"WORD\"')\n",
    "rec_evs = events.query('type == \"REC_WORD\"')\n",
    "\n",
    "#removing subjects who were presented with the same word multiple times (probably repeated data)\n",
    "n_word_pres = word_evs.groupby(['subject', 'session', 'list', 'item_num']).size().to_frame(name='n').reset_index()\n",
    "bad_lists = n_word_pres.query('n > 2')\n",
    "bad_lists[['subject', 'session', 'list']].drop_duplicates()\n",
    "bad_subs = bad_lists.subject.unique().tolist()\n",
    "bad_subs = bad_subs + [\"R1171M\", \"R1093J\", \"R1329T\", \"R1341T\", \"R1015J\"] #\"R1015J\" had no recalls, other subjects unsure...\n",
    "events.query('subject not in @bad_subs', inplace=True)"
   ]
  },
  {
   "cell_type": "code",
   "execution_count": 9,
   "id": "bd6850af-c2b7-4f65-a488-43fa5009d3c2",
   "metadata": {},
   "outputs": [],
   "source": [
    "pb_crp = events.groupby('subject').apply(pb.pd_crp, \n",
    "                                itemno_column='item_num').reset_index()"
   ]
  },
  {
   "cell_type": "code",
   "execution_count": 10,
   "id": "95c8809f-367a-4805-ba1c-6621ea84c3cd",
   "metadata": {},
   "outputs": [
    {
     "data": {
      "image/png": "[encoded data removed]",
      "text/plain": [
       "<Figure size 360x360 with 1 Axes>"
      ]
     },
     "metadata": {
      "needs_background": "light"
     },
     "output_type": "display_data"
    }
   ],
   "source": [
    "g = sns.catplot(x='lag', y='prob', kind='point', \n",
    "                  data=pb_crp.query('lag <= 5 and lag >= -5')\n",
    "           )"
   ]
  },
  {
   "cell_type": "code",
   "execution_count": 11,
   "id": "5435512c-6db7-470b-81f3-a20832decc12",
   "metadata": {},
   "outputs": [],
   "source": [
    "# replace item nums so they are consistent across subjects\n",
    "item_col = 'item'\n",
    "item_num_col = 'item_num'\n",
    "item_num_df = events.query('type == \"WORD\"').drop_duplicates(subset=item_col, ignore_index=True\n",
    "                                    )[item_col].reset_index().rename(columns={'index': item_num_col})\n",
    "events_new = events.merge(item_num_df, on=item_col, suffixes=('', '_new'), \n",
    "                          how='left', sort=False)#.sort_values('mstime')\n",
    "events_new.fillna({'item_num_new': -999}, inplace=True)"
   ]
  },
  {
   "cell_type": "code",
   "execution_count": 13,
   "id": "2c9d8001-c746-4238-bf6d-4c945946d3dc",
   "metadata": {},
   "outputs": [
    {
     "name": "stdout",
     "output_type": "stream",
     "text": [
      "[==================================================] 100.0% 1662.8/1662.8MB downloaded\n"
     ]
    }
   ],
   "source": [
    "import gensim.downloader\n",
    "word2vec_vectors = gensim.downloader.load('word2vec-google-news-300')"
   ]
  },
  {
   "cell_type": "code",
   "execution_count": 14,
   "id": "b8473ce5-a5b2-46a8-bde0-bae2f69bc3a5",
   "metadata": {},
   "outputs": [],
   "source": [
    "def word_similarity(df, col1, col2, keyed_vector=None):\n",
    "    try:\n",
    "        return keyed_vector.similarity(df[col1].lower(), df[col2].lower())\n",
    "    except:\n",
    "        return np.nan"
   ]
  },
  {
   "cell_type": "code",
   "execution_count": 15,
   "id": "25b1e07a-e248-4466-8753-9b8dbd5b4c4c",
   "metadata": {},
   "outputs": [],
   "source": [
    "# get all pairs of items\n",
    "items = item_num_df.item.values\n",
    "sem_sim_df = pd.MultiIndex.from_product([items, items], names=['item_1', 'item_2']).to_frame(index=False)"
   ]
  },
  {
   "cell_type": "code",
   "execution_count": 16,
   "id": "9ddba187-bc99-4b6e-a0a0-5f6f4238c3a8",
   "metadata": {},
   "outputs": [
    {
     "data": {
      "text/html": [
       "<div>\n",
       "<style scoped>\n",
       "    .dataframe tbody tr th:only-of-type {\n",
       "        vertical-align: middle;\n",
       "    }\n",
       "\n",
       "    .dataframe tbody tr th {\n",
       "        vertical-align: top;\n",
       "    }\n",
       "\n",
       "    .dataframe thead th {\n",
       "        text-align: right;\n",
       "    }\n",
       "</style>\n",
       "<table border=\"1\" class=\"dataframe\">\n",
       "  <thead>\n",
       "    <tr style=\"text-align: right;\">\n",
       "      <th></th>\n",
       "      <th>item_1</th>\n",
       "      <th>item_2</th>\n",
       "    </tr>\n",
       "  </thead>\n",
       "  <tbody>\n",
       "    <tr>\n",
       "      <th>0</th>\n",
       "      <td>BEAR</td>\n",
       "      <td>BEAR</td>\n",
       "    </tr>\n",
       "    <tr>\n",
       "      <th>1</th>\n",
       "      <td>BEAR</td>\n",
       "      <td>WING</td>\n",
       "    </tr>\n",
       "    <tr>\n",
       "      <th>2</th>\n",
       "      <td>BEAR</td>\n",
       "      <td>DOOR</td>\n",
       "    </tr>\n",
       "    <tr>\n",
       "      <th>3</th>\n",
       "      <td>BEAR</td>\n",
       "      <td>PLANT</td>\n",
       "    </tr>\n",
       "    <tr>\n",
       "      <th>4</th>\n",
       "      <td>BEAR</td>\n",
       "      <td>ROOT</td>\n",
       "    </tr>\n",
       "    <tr>\n",
       "      <th>...</th>\n",
       "      <td>...</td>\n",
       "      <td>...</td>\n",
       "    </tr>\n",
       "    <tr>\n",
       "      <th>141371</th>\n",
       "      <td>PLAID</td>\n",
       "      <td>LACE</td>\n",
       "    </tr>\n",
       "    <tr>\n",
       "      <th>141372</th>\n",
       "      <td>PLAID</td>\n",
       "      <td>SCARF</td>\n",
       "    </tr>\n",
       "    <tr>\n",
       "      <th>141373</th>\n",
       "      <td>PLAID</td>\n",
       "      <td>GIRL</td>\n",
       "    </tr>\n",
       "    <tr>\n",
       "      <th>141374</th>\n",
       "      <td>PLAID</td>\n",
       "      <td>GROUND</td>\n",
       "    </tr>\n",
       "    <tr>\n",
       "      <th>141375</th>\n",
       "      <td>PLAID</td>\n",
       "      <td>PLAID</td>\n",
       "    </tr>\n",
       "  </tbody>\n",
       "</table>\n",
       "<p>141376 rows × 2 columns</p>\n",
       "</div>"
      ],
      "text/plain": [
       "       item_1  item_2\n",
       "0        BEAR    BEAR\n",
       "1        BEAR    WING\n",
       "2        BEAR    DOOR\n",
       "3        BEAR   PLANT\n",
       "4        BEAR    ROOT\n",
       "...       ...     ...\n",
       "141371  PLAID    LACE\n",
       "141372  PLAID   SCARF\n",
       "141373  PLAID    GIRL\n",
       "141374  PLAID  GROUND\n",
       "141375  PLAID   PLAID\n",
       "\n",
       "[141376 rows x 2 columns]"
      ]
     },
     "execution_count": 16,
     "metadata": {},
     "output_type": "execute_result"
    }
   ],
   "source": [
    "sem_sim_df"
   ]
  },
  {
   "cell_type": "code",
   "execution_count": 17,
   "id": "443f0751-c0ea-423d-860c-26de5889942c",
   "metadata": {},
   "outputs": [],
   "source": [
    "# compute similarity of all pairs\n",
    "sem_sim_df['similarity'] = sem_sim_df.apply(word_similarity, \n",
    "               axis=1, col1='item_1', \n",
    "               col2='item_2', \n",
    "               keyed_vector=word2vec_vectors)"
   ]
  },
  {
   "cell_type": "code",
   "execution_count": 18,
   "id": "8a5adec3-1b8f-4df0-a7cf-74f9416dc44e",
   "metadata": {},
   "outputs": [
    {
     "name": "stderr",
     "output_type": "stream",
     "text": [
      "/home1/rdehaan/.conda/envs/eeg3/lib/python3.7/site-packages/pandas/core/frame.py:9203: FutureWarning: Passing 'suffixes' which cause duplicate columns {'item_1'} in the result is deprecated and will raise a MergeError in a future version.\n",
      "  validate=validate,\n"
     ]
    }
   ],
   "source": [
    "sem_sim_num_df = sem_sim_df.merge(\n",
    "    item_num_df, left_on='item_1', right_on='item').merge(\n",
    "    item_num_df, left_on='item_2', right_on='item', suffixes=('_1', '_2')).drop(columns=['item_1', 'item_2'])"
   ]
  },
  {
   "cell_type": "code",
   "execution_count": 19,
   "id": "7414a870-0597-4087-8a16-a40f18763828",
   "metadata": {},
   "outputs": [],
   "source": [
    "sem_sims = pd.pivot_table(sem_sim_num_df, index='item_num_1', columns='item_num_2', values='similarity', dropna=False)"
   ]
  },
  {
   "cell_type": "code",
   "execution_count": 20,
   "id": "a1183727-8e80-4fab-bd37-27e76ca89cc6",
   "metadata": {},
   "outputs": [],
   "source": [
    "pb_sem_crp = events_new.groupby('subject').apply(pb.pd_sem_crp, \n",
    "                                itemno_column='item_num_new', sem_sims=sem_sims).reset_index()"
   ]
  },
  {
   "cell_type": "code",
   "execution_count": 21,
   "id": "1121a0d2-f6de-4d22-87d1-49f4a4fd8aa0",
   "metadata": {},
   "outputs": [
    {
     "data": {
      "image/png": "[encoded data removed]",
      "text/plain": [
       "<Figure size 360x360 with 1 Axes>"
      ]
     },
     "metadata": {
      "needs_background": "light"
     },
     "output_type": "display_data"
    }
   ],
   "source": [
    "g = sns.catplot(x='sem_bin', y='prob', kind='point', \n",
    "                  data=pb_sem_crp\n",
    "           )"
   ]
  },
  {
   "cell_type": "code",
   "execution_count": 22,
   "id": "1962d276-facb-42f7-a0d5-7dce697ee5f8",
   "metadata": {},
   "outputs": [
    {
     "data": {
      "image/png": "[encoded data removed]",
      "text/plain": [
       "<Figure size 432x288 with 1 Axes>"
      ]
     },
     "metadata": {
      "needs_background": "light"
     },
     "output_type": "display_data"
    }
   ],
   "source": [
    "#using average bin value\n",
    "pb_sem_crp['avg_sem_bin_mean'] = pb_sem_crp.groupby('sem_bin')['sem_bin_mean'].transform('mean')\n",
    "g = sns.lineplot(x='avg_sem_bin_mean', y='prob', data=pb_sem_crp)"
   ]
  },
  {
   "cell_type": "code",
   "execution_count": 31,
   "id": "846bf074-a63a-43e4-a137-eafe89973f63",
   "metadata": {},
   "outputs": [
    {
     "data": {
      "text/html": [
       "<div>\n",
       "<style scoped>\n",
       "    .dataframe tbody tr th:only-of-type {\n",
       "        vertical-align: middle;\n",
       "    }\n",
       "\n",
       "    .dataframe tbody tr th {\n",
       "        vertical-align: top;\n",
       "    }\n",
       "\n",
       "    .dataframe thead th {\n",
       "        text-align: right;\n",
       "    }\n",
       "</style>\n",
       "<table border=\"1\" class=\"dataframe\">\n",
       "  <thead>\n",
       "    <tr style=\"text-align: right;\">\n",
       "      <th></th>\n",
       "      <th>subject</th>\n",
       "      <th>0</th>\n",
       "    </tr>\n",
       "  </thead>\n",
       "  <tbody>\n",
       "    <tr>\n",
       "      <th>0</th>\n",
       "      <td>R1111M</td>\n",
       "      <td>0.490093</td>\n",
       "    </tr>\n",
       "    <tr>\n",
       "      <th>1</th>\n",
       "      <td>R1409D</td>\n",
       "      <td>0.405333</td>\n",
       "    </tr>\n",
       "  </tbody>\n",
       "</table>\n",
       "</div>"
      ],
      "text/plain": [
       "  subject         0\n",
       "0  R1111M  0.490093\n",
       "1  R1409D  0.405333"
      ]
     },
     "execution_count": 31,
     "metadata": {},
     "output_type": "execute_result"
    }
   ],
   "source": [
    "pb_sem_dist_fact = events_new.groupby(\"subject\").apply(pb.pd_dist_fact,\n",
    "                                                       rec_itemnos=None, \n",
    "                                                       itemno_column='item_num_new', \n",
    "                                                       list_index=['subject', 'session', 'list'], \n",
    "                                                       dist_mat=sem_sims, \n",
    "                                                       sim_columns=None, \n",
    "                                                       is_similarity=True, \n",
    "                                                       dist_columns=None,\n",
    "                                                       skip_first_n=0,\n",
    "                                                       pres_type=\"WORD\", rec_type=\"REC_WORD\", type_column='type', ret_counts=False,\n",
    "                                                       ).reset_index()\n",
    "\n",
    "pb_sem_dist_fact"
   ]
  }
 ],
 "metadata": {
  "kernelspec": {
   "display_name": "eeg3",
   "language": "python",
   "name": "eeg3"
  },
  "language_info": {
   "codemirror_mode": {
    "name": "ipython",
    "version": 3
   },
   "file_extension": ".py",
   "mimetype": "text/x-python",
   "name": "python",
   "nbconvert_exporter": "python",
   "pygments_lexer": "ipython3",
   "version": "3.7.11"
  }
 },
 "nbformat": 4,
 "nbformat_minor": 5
}
