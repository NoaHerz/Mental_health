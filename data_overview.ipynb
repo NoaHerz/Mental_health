{
 "cells": [
  {
   "cell_type": "markdown",
   "id": "1ebe67a8-afa4-4729-aa59-16a14a4253fe",
   "metadata": {},
   "source": [
    "# General overview of the data "
   ]
  },
  {
   "cell_type": "markdown",
   "id": "b9f00778-5748-4db6-9e72-e105f0f3d615",
   "metadata": {},
   "source": [
    " ## In this script I'm computing:\n",
    "    1. the time from neuropsych report to testing\n",
    "    2. Distribution of anxiety and depression in the sample\n",
    "    3. correlation between depression and anxiety\n",
    "    4. pariwise correlations between demographic variables"
   ]
  },
  {
   "cell_type": "code",
   "execution_count": 18,
   "id": "68c5f10c-1f22-44da-8227-9cafa8a3e1e1",
   "metadata": {},
   "outputs": [],
   "source": [
    "import pandas as pd\n",
    "import numpy as np\n",
    "import matplotlib.pyplot as plt\n",
    "import seaborn as sb\n",
    "import statsmodels.api as sm\n",
    "from scipy import stats\n",
    "import seaborn as sns"
   ]
  },
  {
   "cell_type": "code",
   "execution_count": 2,
   "id": "5f022b5f-34ed-44fd-97bf-60a24c1265c0",
   "metadata": {},
   "outputs": [
    {
     "name": "stdout",
     "output_type": "stream",
     "text": [
      "Report dates not available for UTSW\n",
      "median = 226.0 days\n"
     ]
    },
    {
     "data": {
      "text/plain": [
       "Text(226.0, 15, '  Median: 7.5 months')"
      ]
     },
     "execution_count": 2,
     "metadata": {},
     "output_type": "execute_result"
    },
    {
     "data": {
      "image/png": "[encoded data removed]",
      "text/plain": [
       "<Figure size 576x432 with 1 Axes>"
      ]
     },
     "metadata": {
      "needs_background": "light"
     },
     "output_type": "display_data"
    }
   ],
   "source": [
    "#Set to 'All' for aggregate data or a specific site name for site-only data\n",
    "site = 'All'\n",
    "sd = {'Jefferson', 'Dartmouth', 'Emory', 'UTSW'}\n",
    "\n",
    "if (site != 'All'):\n",
    "#     df = pd.read_excel(r'./' + site + '_neuropsych.xlsx')\n",
    "    df = pd.read_excel(r'./' + site + '_neuropsych.xlsx',engine=\"openpyxl\")\n",
    "time_gap = []\n",
    "\n",
    "#Will only include sites that have date of report extracted from REDCap\n",
    "if site == 'All':\n",
    "    for k in sd:\n",
    "        try:\n",
    "            df = pd.read_excel(r'./' + k + '_neuropsych.xlsx',engine=\"openpyxl\")\n",
    "            for i in df.index:\n",
    "                gap = df.iloc[i]['Time between report and implant (days)']\n",
    "                if np.isnan(gap)==False:\n",
    "                    time_gap.append(gap)\n",
    "        except:\n",
    "            print('Report dates not available for', k)\n",
    "else:\n",
    "    for i in df.index:\n",
    "        gap = df.iloc[i]['Time between report and implant (days)']\n",
    "        if np.isnan(gap)==False:\n",
    "            time_gap.append(gap)\n",
    "    \n",
    "mean = np.mean(time_gap)\n",
    "med = np.median(time_gap)\n",
    "    \n",
    "plt.figure(figsize=(8,6))\n",
    "time_hist = plt.hist(time_gap, 50,alpha=0.4)\n",
    "plt.xlabel('Days between report and implant',fontsize=18)\n",
    "plt.ylabel('Number of subjects',fontsize=18)\n",
    "# plt.title('Time Between Report and Implant: '+ site,fontsize=18)\n",
    "plt.title('Time Between Report and Implant ',fontsize=18)\n",
    "\n",
    "# plt.axvline(x=mean, color='k', linestyle='--',alpha=0.5)\n",
    "plt.axvline(x=med, color='k', linestyle='--',alpha=0.6)\n",
    "# print('mean =', mean, 'days')\n",
    "print('median =', med, 'days')\n",
    "plt.text(med,15,'  Median: %.1f months' %(med/30))"
   ]
  },
  {
   "cell_type": "code",
   "execution_count": 41,
   "id": "b7a0898a-b2ca-4c0d-a028-d09671f8dd3f",
   "metadata": {
    "tags": []
   },
   "outputs": [],
   "source": [
    "# norep = []\n",
    "# oldrep = []\n",
    "\n",
    "# df\n",
    "# for i in df.index:\n",
    "#     typ = df.iloc[i]['Date of Report']\n",
    "#     gap = df.iloc[i]['Time between report and implant (days)']\n",
    "#     if typ=='None':\n",
    "#         norep.append(df.iloc[i]['Subject Number'])\n",
    "#     if gap > 182:\n",
    "#         oldrep.append(df.iloc[i]['Subject Number'])\n",
    "# len(oldrep)"
   ]
  },
  {
   "cell_type": "code",
   "execution_count": 6,
   "id": "1d945a6f-e1a4-4a24-8ddf-a38857e473a3",
   "metadata": {},
   "outputs": [],
   "source": [
    "# load\n",
    "import pickle\n",
    "with open('/home1/noaherz/Mental_health5/results/df_master','rb') as pickle_file:\n",
    "    df_master=pickle.load(pickle_file)\n"
   ]
  },
  {
   "cell_type": "code",
   "execution_count": 7,
   "id": "a19e3553-07c4-4f3f-9454-f07da693e36b",
   "metadata": {},
   "outputs": [
    {
     "name": "stdout",
     "output_type": "stream",
     "text": [
      "number of BAI scores: 405\n",
      "number of BDI scores: 479\n",
      "number of both BAI and BDI scores: 120\n"
     ]
    }
   ],
   "source": [
    "print('number of BAI scores:',len(df_master) - sum(np.isnan(df_master['BAI'])))\n",
    "print('number of BDI scores:',len(df_master) - sum(np.isnan(df_master['BDI'])))\n",
    "both_vals=df_master.dropna(subset=['BAI','BDI'])\n",
    "print('number of both BAI and BDI scores:',len(both_vals['subject'].unique()))"
   ]
  },
  {
   "cell_type": "code",
   "execution_count": 8,
   "id": "66137cbe-3fc6-4944-808a-f93f22da3903",
   "metadata": {},
   "outputs": [],
   "source": [
    "fig_path = '/home1/noaherz/Mental_health5/figures'"
   ]
  },
  {
   "cell_type": "markdown",
   "id": "2d6ab0f2-5988-4d67-a5e5-9aa1f545c895",
   "metadata": {},
   "source": [
    "## Plot depression historgram"
   ]
  },
  {
   "cell_type": "code",
   "execution_count": 27,
   "id": "2ec40378-2d16-472e-85b5-e65b1aeb1a70",
   "metadata": {
    "tags": []
   },
   "outputs": [
    {
     "data": {
      "text/plain": [
       "<matplotlib.lines.Line2D at 0x2ac54598f750>"
      ]
     },
     "execution_count": 27,
     "metadata": {},
     "output_type": "execute_result"
    },
    {
     "data": {
      "image/png": "[encoded data removed]",
      "text/plain": [
       "<Figure size 432x288 with 1 Axes>"
      ]
     },
     "metadata": {
      "needs_background": "light"
     },
     "output_type": "display_data"
    }
   ],
   "source": [
    "\n",
    "plt.hist(both_vals['BDI'], 30,alpha=0.6)\n",
    "plt.xlabel('BDI score',fontsize=22)\n",
    "plt.ylabel('Count',fontsize=22)\n",
    "plt.title('Depression',fontsize=18)\n",
    "plt.xticks(fontsize=14)\n",
    "plt.yticks(fontsize=14)\n",
    "\n",
    "# scores from 0 to 9 represent minimal depressive symptoms, scores of 10 to 16 indicate mild depression, scores of 17 to 29 indicate moderate depression, and scores of 30 to 63 indicate severe depression.\n",
    "# cutoffs\n",
    "mild=10\n",
    "moderate=17\n",
    "severe=30\n",
    "\n",
    "# compute percentage\n",
    "min_perc=(np.sum(np.logical_and(np.array(both_vals['BDI'])>=0,np.array(both_vals['BDI'])<mild))/len(both_vals['BDI']))*100\n",
    "mild_perc=(np.sum(np.logical_and(np.array(both_vals['BDI'])>=mild,np.array(both_vals['BDI'])<moderate))/len(both_vals['BDI']))*100\n",
    "moderate_perc=(np.sum(np.logical_and(np.array(both_vals['BDI'])>=moderate,np.array(both_vals['BDI'])<severe))/len(both_vals['BDI']))*100\n",
    "severe_perc=(np.sum(np.array(both_vals['BDI'])>=severe)/len(both_vals['BDI']))*100\n",
    "\n",
    "plt.text(-1,59,' minimal \\n (%.0f%%)' %min_perc,fontsize=12)\n",
    "plt.text(mild,59,' mild \\n (%.0f%%)' %mild_perc,fontsize=12)\n",
    "plt.text(moderate,59,' moderate \\n (%.0f%%)' %moderate_perc,fontsize=12)\n",
    "plt.text(severe,59,' severe \\n (%.0f%%)' %severe_perc,fontsize=12)\n",
    "plt.axvline(mild, color='k', linestyle='--',alpha=0.6)\n",
    "plt.axvline(moderate, color='k', linestyle='--',alpha=0.6)\n",
    "plt.axvline(severe, color='k', linestyle='--',alpha=0.6)\n",
    "\n",
    "# plt.savefig(f\"{fig_path}/depression_hist.pdf\",transparent=True,bbox_inches='tight', pad_inches=0.08, format='pdf')\n"
   ]
  },
  {
   "cell_type": "markdown",
   "id": "6200dcde-5c14-467f-bdf1-06380685f30b",
   "metadata": {},
   "source": [
    "## Plot anxiety historgram"
   ]
  },
  {
   "cell_type": "code",
   "execution_count": 28,
   "id": "3519dc20-ca78-4bcc-a799-3cdb7bc98828",
   "metadata": {},
   "outputs": [
    {
     "data": {
      "text/plain": [
       "<matplotlib.lines.Line2D at 0x2ac545a68410>"
      ]
     },
     "execution_count": 28,
     "metadata": {},
     "output_type": "execute_result"
    },
    {
     "data": {
      "image/png": "[encoded data removed]",
      "text/plain": [
       "<Figure size 432x288 with 1 Axes>"
      ]
     },
     "metadata": {
      "needs_background": "light"
     },
     "output_type": "display_data"
    }
   ],
   "source": [
    "\n",
    "plt.hist(both_vals['BAI'], 30,alpha=0.6)\n",
    "plt.xlabel('BAI score',fontsize=22)\n",
    "plt.ylabel('Count',fontsize=22)\n",
    "plt.title('Anxiety',fontsize=18)\n",
    "plt.xticks(fontsize=14)\n",
    "plt.yticks(fontsize=14)\n",
    "\n",
    "# cutoffs scores\n",
    "mild=8\n",
    "moderate=16\n",
    "severe=26\n",
    "\n",
    "# compute percentage\n",
    "min_perc=(np.sum(np.logical_and(np.array(both_vals['BAI'])>=0,np.array(both_vals['BAI'])<mild))/len(both_vals['BAI']))*100\n",
    "mild_perc=(np.sum(np.logical_and(np.array(both_vals['BAI'])>=mild,np.array(both_vals['BAI'])<moderate))/len(both_vals['BAI']))*100\n",
    "moderate_perc=(np.sum(np.logical_and(np.array(both_vals['BAI'])>=moderate,np.array(both_vals['BAI'])<severe))/len(both_vals['BAI']))*100\n",
    "severe_perc=(np.sum(np.array(both_vals['BAI'])>=severe)/len(both_vals['BAI']))*100\n",
    "\n",
    "plt.text(-1,46,' minimal \\n (%.0f%%)' %min_perc,fontsize=12)\n",
    "plt.text(mild,46,' mild \\n (%.0f%%)' %mild_perc,fontsize=12)\n",
    "plt.text(moderate,46,' moderate \\n (%.0f%%)' %moderate_perc,fontsize=12)\n",
    "plt.text(severe,46,' severe \\n (%.0f%%)' %severe_perc,fontsize=12)\n",
    "plt.axvline(mild, color='k', linestyle='--',alpha=0.6)\n",
    "plt.axvline(moderate, color='k', linestyle='--',alpha=0.6)\n",
    "plt.axvline(severe, color='k', linestyle='--',alpha=0.6)\n",
    "\n",
    "# plt.savefig(f\"{fig_path}/anxiety_hist.pdf\",transparent=True,bbox_inches='tight', pad_inches=0.08, format='pdf')\n"
   ]
  },
  {
   "cell_type": "markdown",
   "id": "b4839813-2964-4579-a126-ab4da4e5179c",
   "metadata": {},
   "source": [
    "### Compute Pearson correlation between anxiety and depression"
   ]
  },
  {
   "cell_type": "code",
   "execution_count": 11,
   "id": "49336f3c-5711-4be0-ae65-0a518a8be43a",
   "metadata": {},
   "outputs": [
    {
     "name": "stdout",
     "output_type": "stream",
     "text": [
      "/home1/noaherz/Mental_health5\n"
     ]
    },
    {
     "name": "stderr",
     "output_type": "stream",
     "text": [
      "/home1/noaherz/.conda/envs/cml3/lib/python3.7/site-packages/ptsa/data/timeseries.py:487: FutureWarning: xarray subclass TimeSeriesX should explicitly define __slots__\n",
      "  class TimeSeriesX(TimeSeries):\n",
      "/home1/noaherz/.conda/envs/cml3/lib/python3.7/site-packages/openpyxl/worksheet/_reader.py:300: UserWarning: Data Validation extension is not supported and will be removed\n",
      "  warn(msg)\n"
     ]
    }
   ],
   "source": [
    "% cd /home1/noaherz/Mental_health5/\n",
    "from false_memory_functions import *"
   ]
  },
  {
   "cell_type": "code",
   "execution_count": 12,
   "id": "9873c70b-3129-451a-aacf-9c108ad5be70",
   "metadata": {},
   "outputs": [],
   "source": [
    "# load\n",
    "import pickle\n",
    "with open('/home1/noaherz/Mental_health5/results/df_master','rb') as pickle_file:\n",
    "    df_master=pickle.load(pickle_file)\n"
   ]
  },
  {
   "cell_type": "code",
   "execution_count": 13,
   "id": "d12014af-de33-416e-ace7-f0f67cf35344",
   "metadata": {},
   "outputs": [
    {
     "data": {
      "text/plain": [
       "404"
      ]
     },
     "execution_count": 13,
     "metadata": {},
     "output_type": "execute_result"
    }
   ],
   "source": [
    "df_master=df_master.dropna(subset=['BDI', 'BAI'])\n",
    "len(df_master)"
   ]
  },
  {
   "cell_type": "code",
   "execution_count": 14,
   "id": "59c501ae-4abc-4093-bd52-fde661821858",
   "metadata": {},
   "outputs": [
    {
     "data": {
      "text/plain": [
       "120"
      ]
     },
     "execution_count": 14,
     "metadata": {},
     "output_type": "execute_result"
    }
   ],
   "source": [
    "len(df_master['subject'].unique())"
   ]
  },
  {
   "cell_type": "markdown",
   "id": "5fc37037-08e8-4af3-ac55-5a62acb23762",
   "metadata": {},
   "source": [
    "demographic and neuropsych information is similar across sessions. Take only a single value per subject:"
   ]
  },
  {
   "cell_type": "code",
   "execution_count": 15,
   "id": "c4d63b6e-24f2-49bf-adce-1fbab08d2b84",
   "metadata": {},
   "outputs": [],
   "source": [
    "sub_level_df = pd.DataFrame([]) \n",
    "for sub in df_master['subject'].unique():\n",
    "    sub_data = df_master[df_master['subject']==sub]\n",
    "    assert np.max(sub_data['BAI']) == np.min(sub_data['BAI']) # Check if all items in the array are equal\n",
    "    assert np.max(sub_data['BDI']) == np.min(sub_data['BDI'])\n",
    "    sub_level_df=sub_level_df.append({'subject': sub_data.iloc[0]['subject'], 'BDI':sub_data.iloc[0]['BDI'], 'BAI':sub_data.iloc[0]['BAI'],\n",
    "                                     'gender':sub_data.iloc[0]['gender'],'age_of_seizure_onset':sub_data.iloc[0]['age_of_seizure_onset'],\n",
    "                                     'IQ':sub_data.iloc[0]['IQ'],'age_at_implant':sub_data.iloc[0]['age_at_implant'],\n",
    "                                     'binary_prior_neuro':sub_data.iloc[0]['binary_prior_neuro']},ignore_index=True )\n"
   ]
  },
  {
   "cell_type": "code",
   "execution_count": 16,
   "id": "7148f57c-e907-460a-8318-80496f6e056f",
   "metadata": {},
   "outputs": [
    {
     "data": {
      "text/html": [
       "<div>\n",
       "<style scoped>\n",
       "    .dataframe tbody tr th:only-of-type {\n",
       "        vertical-align: middle;\n",
       "    }\n",
       "\n",
       "    .dataframe tbody tr th {\n",
       "        vertical-align: top;\n",
       "    }\n",
       "\n",
       "    .dataframe thead th {\n",
       "        text-align: right;\n",
       "    }\n",
       "</style>\n",
       "<table border=\"1\" class=\"dataframe\">\n",
       "  <thead>\n",
       "    <tr style=\"text-align: right;\">\n",
       "      <th></th>\n",
       "      <th>BAI</th>\n",
       "      <th>BDI</th>\n",
       "      <th>IQ</th>\n",
       "      <th>age_at_implant</th>\n",
       "      <th>age_of_seizure_onset</th>\n",
       "      <th>binary_prior_neuro</th>\n",
       "      <th>gender</th>\n",
       "      <th>subject</th>\n",
       "    </tr>\n",
       "  </thead>\n",
       "  <tbody>\n",
       "    <tr>\n",
       "      <th>0</th>\n",
       "      <td>8.0</td>\n",
       "      <td>2.0</td>\n",
       "      <td>72.0</td>\n",
       "      <td>48.105026</td>\n",
       "      <td>20.0</td>\n",
       "      <td>1.0</td>\n",
       "      <td>Female</td>\n",
       "      <td>R1001P</td>\n",
       "    </tr>\n",
       "    <tr>\n",
       "      <th>1</th>\n",
       "      <td>9.0</td>\n",
       "      <td>0.0</td>\n",
       "      <td>86.0</td>\n",
       "      <td>49.383743</td>\n",
       "      <td>34.0</td>\n",
       "      <td>1.0</td>\n",
       "      <td>Female</td>\n",
       "      <td>R1002P</td>\n",
       "    </tr>\n",
       "    <tr>\n",
       "      <th>2</th>\n",
       "      <td>7.0</td>\n",
       "      <td>7.0</td>\n",
       "      <td>83.0</td>\n",
       "      <td>20.553582</td>\n",
       "      <td>18.0</td>\n",
       "      <td>1.0</td>\n",
       "      <td>Female</td>\n",
       "      <td>R1006P</td>\n",
       "    </tr>\n",
       "    <tr>\n",
       "      <th>3</th>\n",
       "      <td>2.0</td>\n",
       "      <td>1.0</td>\n",
       "      <td>92.0</td>\n",
       "      <td>30.801454</td>\n",
       "      <td>22.0</td>\n",
       "      <td>1.0</td>\n",
       "      <td>Female</td>\n",
       "      <td>R1010J</td>\n",
       "    </tr>\n",
       "    <tr>\n",
       "      <th>4</th>\n",
       "      <td>2.0</td>\n",
       "      <td>12.0</td>\n",
       "      <td>98.0</td>\n",
       "      <td>36.581290</td>\n",
       "      <td>12.0</td>\n",
       "      <td>0.0</td>\n",
       "      <td>Female</td>\n",
       "      <td>R1013E</td>\n",
       "    </tr>\n",
       "    <tr>\n",
       "      <th>...</th>\n",
       "      <td>...</td>\n",
       "      <td>...</td>\n",
       "      <td>...</td>\n",
       "      <td>...</td>\n",
       "      <td>...</td>\n",
       "      <td>...</td>\n",
       "      <td>...</td>\n",
       "      <td>...</td>\n",
       "    </tr>\n",
       "    <tr>\n",
       "      <th>115</th>\n",
       "      <td>18.0</td>\n",
       "      <td>16.0</td>\n",
       "      <td>105.0</td>\n",
       "      <td>38.839949</td>\n",
       "      <td>22.0</td>\n",
       "      <td>0.0</td>\n",
       "      <td>Male</td>\n",
       "      <td>R1530J</td>\n",
       "    </tr>\n",
       "    <tr>\n",
       "      <th>116</th>\n",
       "      <td>12.0</td>\n",
       "      <td>21.0</td>\n",
       "      <td>71.0</td>\n",
       "      <td>53.682143</td>\n",
       "      <td>31.0</td>\n",
       "      <td>1.0</td>\n",
       "      <td>Female</td>\n",
       "      <td>R1533J</td>\n",
       "    </tr>\n",
       "    <tr>\n",
       "      <th>117</th>\n",
       "      <td>24.0</td>\n",
       "      <td>17.0</td>\n",
       "      <td>102.0</td>\n",
       "      <td>30.593487</td>\n",
       "      <td>13.0</td>\n",
       "      <td>0.0</td>\n",
       "      <td>Female</td>\n",
       "      <td>R1536J</td>\n",
       "    </tr>\n",
       "    <tr>\n",
       "      <th>118</th>\n",
       "      <td>2.0</td>\n",
       "      <td>7.0</td>\n",
       "      <td>114.0</td>\n",
       "      <td>29.281915</td>\n",
       "      <td>22.0</td>\n",
       "      <td>0.0</td>\n",
       "      <td>Male</td>\n",
       "      <td>R1542J</td>\n",
       "    </tr>\n",
       "    <tr>\n",
       "      <th>119</th>\n",
       "      <td>6.0</td>\n",
       "      <td>10.0</td>\n",
       "      <td>84.0</td>\n",
       "      <td>35.820037</td>\n",
       "      <td>23.0</td>\n",
       "      <td>1.0</td>\n",
       "      <td>Female</td>\n",
       "      <td>R1572T</td>\n",
       "    </tr>\n",
       "  </tbody>\n",
       "</table>\n",
       "<p>120 rows × 8 columns</p>\n",
       "</div>"
      ],
      "text/plain": [
       "      BAI   BDI     IQ  age_at_implant  age_of_seizure_onset  \\\n",
       "0     8.0   2.0   72.0       48.105026                  20.0   \n",
       "1     9.0   0.0   86.0       49.383743                  34.0   \n",
       "2     7.0   7.0   83.0       20.553582                  18.0   \n",
       "3     2.0   1.0   92.0       30.801454                  22.0   \n",
       "4     2.0  12.0   98.0       36.581290                  12.0   \n",
       "..    ...   ...    ...             ...                   ...   \n",
       "115  18.0  16.0  105.0       38.839949                  22.0   \n",
       "116  12.0  21.0   71.0       53.682143                  31.0   \n",
       "117  24.0  17.0  102.0       30.593487                  13.0   \n",
       "118   2.0   7.0  114.0       29.281915                  22.0   \n",
       "119   6.0  10.0   84.0       35.820037                  23.0   \n",
       "\n",
       "     binary_prior_neuro  gender subject  \n",
       "0                   1.0  Female  R1001P  \n",
       "1                   1.0  Female  R1002P  \n",
       "2                   1.0  Female  R1006P  \n",
       "3                   1.0  Female  R1010J  \n",
       "4                   0.0  Female  R1013E  \n",
       "..                  ...     ...     ...  \n",
       "115                 0.0    Male  R1530J  \n",
       "116                 1.0  Female  R1533J  \n",
       "117                 0.0  Female  R1536J  \n",
       "118                 0.0    Male  R1542J  \n",
       "119                 1.0  Female  R1572T  \n",
       "\n",
       "[120 rows x 8 columns]"
      ]
     },
     "execution_count": 16,
     "metadata": {},
     "output_type": "execute_result"
    }
   ],
   "source": [
    "sub_level_df"
   ]
  },
  {
   "cell_type": "code",
   "execution_count": 20,
   "id": "19504871-df73-44e8-bb7e-7d42bb72b1d6",
   "metadata": {},
   "outputs": [
    {
     "name": "stdout",
     "output_type": "stream",
     "text": [
      "LR test, 0.530, p value:, 0.00000000, N = 120\n"
     ]
    },
    {
     "data": {
      "text/plain": [
       "<matplotlib.patches.Rectangle at 0x2b6dc3547690>"
      ]
     },
     "execution_count": 20,
     "metadata": {},
     "output_type": "execute_result"
    },
    {
     "data": {
      "image/png": "[encoded data removed]",
      "text/plain": [
       "<Figure size 360x360 with 1 Axes>"
      ]
     },
     "metadata": {
      "needs_background": "light"
     },
     "output_type": "display_data"
    }
   ],
   "source": [
    "\n",
    "sns.lmplot(x=\"BAI\", y=\"BDI\", data=sub_level_df);\n",
    "plt.xlabel(\"BAI\",fontsize=18)\n",
    "plt.ylabel(\"BDI\",fontsize=18);\n",
    "plt.title(\"Depression and Anxiety Correlation\")\n",
    "\n",
    "# correlation:\n",
    "r,p=stats.pearsonr(sub_level_df['BAI'], sub_level_df['BDI'])\n",
    "print('LR test, {:.3f}, p value:, {:.8f}, N = {:.0f}'.format(r, p, len(sub_level_df)))\n",
    "\n",
    "# Anxiety cutoffs\n",
    "mild=8\n",
    "moderate=16\n",
    "severe=26\n",
    "# Depression cutoffs\n",
    "mild=10\n",
    "moderate=17\n",
    "severe=30\n",
    "\n",
    "rect = plt.Rectangle((26,30),max(sub_level_df['BAI'])-25,max(sub_level_df['BDI'])-29,linewidth=1.5,fill=True,alpha=0.3,facecolor='lightgrey', edgecolor='grey',linestyle=':') # severe cases\n",
    "rect1 = plt.Rectangle((16,17),26-16,30-17,linewidth=1.5,fill=True,alpha=0.3,facecolor='lightgrey', edgecolor='grey',linestyle=':') # moderate cases\n",
    "rect2 = plt.Rectangle((8,10),16-8,17-10,linewidth=1.5,fill=True,alpha=0.3,facecolor='lightgrey', edgecolor='grey',linestyle=':') # mild cases\n",
    "rect3 = plt.Rectangle((0,0),8,10,linewidth=1.5,fill=True,alpha=0.3,facecolor='lightgrey', edgecolor='grey',linestyle=':') # without depression/anxiety\n",
    "\n",
    "# Add the patch to the Axes\n",
    "plt.gca().add_patch(rect)\n",
    "plt.gca().add_patch(rect1)\n",
    "plt.gca().add_patch(rect2)\n",
    "plt.gca().add_patch(rect3)\n"
   ]
  },
  {
   "cell_type": "markdown",
   "id": "ec8f9fde-c581-45da-aedd-ba5046cf211f",
   "metadata": {},
   "source": [
    "### Pairwise correlation between demographic variables"
   ]
  },
  {
   "cell_type": "markdown",
   "id": "5b372fc9-0445-4d62-a8ef-8a44e27def95",
   "metadata": {},
   "source": [
    "Check for problems of multicollinearity.\n",
    "See Ada's paper that adresses this issue: https://memory.psych.upenn.edu/files/pubs/AkaEtal21.pdf"
   ]
  },
  {
   "cell_type": "code",
   "execution_count": 19,
   "id": "631606b2-1a8a-444c-b1d6-1f92677d99f8",
   "metadata": {},
   "outputs": [
    {
     "data": {
      "text/html": [
       "<div>\n",
       "<style scoped>\n",
       "    .dataframe tbody tr th:only-of-type {\n",
       "        vertical-align: middle;\n",
       "    }\n",
       "\n",
       "    .dataframe tbody tr th {\n",
       "        vertical-align: top;\n",
       "    }\n",
       "\n",
       "    .dataframe thead th {\n",
       "        text-align: right;\n",
       "    }\n",
       "</style>\n",
       "<table border=\"1\" class=\"dataframe\">\n",
       "  <thead>\n",
       "    <tr style=\"text-align: right;\">\n",
       "      <th></th>\n",
       "      <th>BAI</th>\n",
       "      <th>BDI</th>\n",
       "      <th>IQ</th>\n",
       "      <th>age_at_implant</th>\n",
       "      <th>age_of_seizure_onset</th>\n",
       "      <th>binary_prior_neuro</th>\n",
       "    </tr>\n",
       "  </thead>\n",
       "  <tbody>\n",
       "    <tr>\n",
       "      <th>BAI</th>\n",
       "      <td>1.000000</td>\n",
       "      <td>0.529718</td>\n",
       "      <td>0.005267</td>\n",
       "      <td>0.080015</td>\n",
       "      <td>0.167275</td>\n",
       "      <td>0.033852</td>\n",
       "    </tr>\n",
       "    <tr>\n",
       "      <th>BDI</th>\n",
       "      <td>0.529718</td>\n",
       "      <td>1.000000</td>\n",
       "      <td>0.023126</td>\n",
       "      <td>0.281204</td>\n",
       "      <td>0.182115</td>\n",
       "      <td>0.077575</td>\n",
       "    </tr>\n",
       "    <tr>\n",
       "      <th>IQ</th>\n",
       "      <td>0.005267</td>\n",
       "      <td>0.023126</td>\n",
       "      <td>1.000000</td>\n",
       "      <td>-0.037334</td>\n",
       "      <td>-0.013810</td>\n",
       "      <td>-0.081702</td>\n",
       "    </tr>\n",
       "    <tr>\n",
       "      <th>age_at_implant</th>\n",
       "      <td>0.080015</td>\n",
       "      <td>0.281204</td>\n",
       "      <td>-0.037334</td>\n",
       "      <td>1.000000</td>\n",
       "      <td>0.523318</td>\n",
       "      <td>0.133299</td>\n",
       "    </tr>\n",
       "    <tr>\n",
       "      <th>age_of_seizure_onset</th>\n",
       "      <td>0.167275</td>\n",
       "      <td>0.182115</td>\n",
       "      <td>-0.013810</td>\n",
       "      <td>0.523318</td>\n",
       "      <td>1.000000</td>\n",
       "      <td>0.303731</td>\n",
       "    </tr>\n",
       "    <tr>\n",
       "      <th>binary_prior_neuro</th>\n",
       "      <td>0.033852</td>\n",
       "      <td>0.077575</td>\n",
       "      <td>-0.081702</td>\n",
       "      <td>0.133299</td>\n",
       "      <td>0.303731</td>\n",
       "      <td>1.000000</td>\n",
       "    </tr>\n",
       "  </tbody>\n",
       "</table>\n",
       "</div>"
      ],
      "text/plain": [
       "                           BAI       BDI        IQ  age_at_implant  \\\n",
       "BAI                   1.000000  0.529718  0.005267        0.080015   \n",
       "BDI                   0.529718  1.000000  0.023126        0.281204   \n",
       "IQ                    0.005267  0.023126  1.000000       -0.037334   \n",
       "age_at_implant        0.080015  0.281204 -0.037334        1.000000   \n",
       "age_of_seizure_onset  0.167275  0.182115 -0.013810        0.523318   \n",
       "binary_prior_neuro    0.033852  0.077575 -0.081702        0.133299   \n",
       "\n",
       "                      age_of_seizure_onset  binary_prior_neuro  \n",
       "BAI                               0.167275            0.033852  \n",
       "BDI                               0.182115            0.077575  \n",
       "IQ                               -0.013810           -0.081702  \n",
       "age_at_implant                    0.523318            0.133299  \n",
       "age_of_seizure_onset              1.000000            0.303731  \n",
       "binary_prior_neuro                0.303731            1.000000  "
      ]
     },
     "execution_count": 19,
     "metadata": {},
     "output_type": "execute_result"
    }
   ],
   "source": [
    "sub_level_df.corr('pearson')"
   ]
  },
  {
   "cell_type": "markdown",
   "id": "921b6af4-150f-4c9a-a2b3-be72d10a4dff",
   "metadata": {},
   "source": [
    "Add the time difference between current age and age at seizure onset. \n",
    "The correlation between age and the time difference should be lower relative to the correlation between age and age at seizure onset."
   ]
  },
  {
   "cell_type": "code",
   "execution_count": 21,
   "id": "a2106f08-92fd-4139-93e7-cf6a6dce220d",
   "metadata": {},
   "outputs": [
    {
     "data": {
      "text/html": [
       "<div>\n",
       "<style scoped>\n",
       "    .dataframe tbody tr th:only-of-type {\n",
       "        vertical-align: middle;\n",
       "    }\n",
       "\n",
       "    .dataframe tbody tr th {\n",
       "        vertical-align: top;\n",
       "    }\n",
       "\n",
       "    .dataframe thead th {\n",
       "        text-align: right;\n",
       "    }\n",
       "</style>\n",
       "<table border=\"1\" class=\"dataframe\">\n",
       "  <thead>\n",
       "    <tr style=\"text-align: right;\">\n",
       "      <th></th>\n",
       "      <th>BAI</th>\n",
       "      <th>BDI</th>\n",
       "      <th>IQ</th>\n",
       "      <th>age_at_implant</th>\n",
       "      <th>age_of_seizure_onset</th>\n",
       "      <th>binary_prior_neuro</th>\n",
       "      <th>time_from_seizure_onset</th>\n",
       "    </tr>\n",
       "  </thead>\n",
       "  <tbody>\n",
       "    <tr>\n",
       "      <th>BAI</th>\n",
       "      <td>1.000000</td>\n",
       "      <td>0.529718</td>\n",
       "      <td>0.005267</td>\n",
       "      <td>0.080015</td>\n",
       "      <td>0.167275</td>\n",
       "      <td>0.033852</td>\n",
       "      <td>-0.106500</td>\n",
       "    </tr>\n",
       "    <tr>\n",
       "      <th>BDI</th>\n",
       "      <td>0.529718</td>\n",
       "      <td>1.000000</td>\n",
       "      <td>0.023126</td>\n",
       "      <td>0.281204</td>\n",
       "      <td>0.182115</td>\n",
       "      <td>0.077575</td>\n",
       "      <td>0.064904</td>\n",
       "    </tr>\n",
       "    <tr>\n",
       "      <th>IQ</th>\n",
       "      <td>0.005267</td>\n",
       "      <td>0.023126</td>\n",
       "      <td>1.000000</td>\n",
       "      <td>-0.037334</td>\n",
       "      <td>-0.013810</td>\n",
       "      <td>-0.081702</td>\n",
       "      <td>-0.016846</td>\n",
       "    </tr>\n",
       "    <tr>\n",
       "      <th>age_at_implant</th>\n",
       "      <td>0.080015</td>\n",
       "      <td>0.281204</td>\n",
       "      <td>-0.037334</td>\n",
       "      <td>1.000000</td>\n",
       "      <td>0.523318</td>\n",
       "      <td>0.133299</td>\n",
       "      <td>0.376015</td>\n",
       "    </tr>\n",
       "    <tr>\n",
       "      <th>age_of_seizure_onset</th>\n",
       "      <td>0.167275</td>\n",
       "      <td>0.182115</td>\n",
       "      <td>-0.013810</td>\n",
       "      <td>0.523318</td>\n",
       "      <td>1.000000</td>\n",
       "      <td>0.303731</td>\n",
       "      <td>-0.592826</td>\n",
       "    </tr>\n",
       "    <tr>\n",
       "      <th>binary_prior_neuro</th>\n",
       "      <td>0.033852</td>\n",
       "      <td>0.077575</td>\n",
       "      <td>-0.081702</td>\n",
       "      <td>0.133299</td>\n",
       "      <td>0.303731</td>\n",
       "      <td>1.000000</td>\n",
       "      <td>-0.219926</td>\n",
       "    </tr>\n",
       "    <tr>\n",
       "      <th>time_from_seizure_onset</th>\n",
       "      <td>-0.106500</td>\n",
       "      <td>0.064904</td>\n",
       "      <td>-0.016846</td>\n",
       "      <td>0.376015</td>\n",
       "      <td>-0.592826</td>\n",
       "      <td>-0.219926</td>\n",
       "      <td>1.000000</td>\n",
       "    </tr>\n",
       "  </tbody>\n",
       "</table>\n",
       "</div>"
      ],
      "text/plain": [
       "                              BAI       BDI        IQ  age_at_implant  \\\n",
       "BAI                      1.000000  0.529718  0.005267        0.080015   \n",
       "BDI                      0.529718  1.000000  0.023126        0.281204   \n",
       "IQ                       0.005267  0.023126  1.000000       -0.037334   \n",
       "age_at_implant           0.080015  0.281204 -0.037334        1.000000   \n",
       "age_of_seizure_onset     0.167275  0.182115 -0.013810        0.523318   \n",
       "binary_prior_neuro       0.033852  0.077575 -0.081702        0.133299   \n",
       "time_from_seizure_onset -0.106500  0.064904 -0.016846        0.376015   \n",
       "\n",
       "                         age_of_seizure_onset  binary_prior_neuro  \\\n",
       "BAI                                  0.167275            0.033852   \n",
       "BDI                                  0.182115            0.077575   \n",
       "IQ                                  -0.013810           -0.081702   \n",
       "age_at_implant                       0.523318            0.133299   \n",
       "age_of_seizure_onset                 1.000000            0.303731   \n",
       "binary_prior_neuro                   0.303731            1.000000   \n",
       "time_from_seizure_onset             -0.592826           -0.219926   \n",
       "\n",
       "                         time_from_seizure_onset  \n",
       "BAI                                    -0.106500  \n",
       "BDI                                     0.064904  \n",
       "IQ                                     -0.016846  \n",
       "age_at_implant                          0.376015  \n",
       "age_of_seizure_onset                   -0.592826  \n",
       "binary_prior_neuro                     -0.219926  \n",
       "time_from_seizure_onset                 1.000000  "
      ]
     },
     "execution_count": 21,
     "metadata": {},
     "output_type": "execute_result"
    }
   ],
   "source": [
    "# add time difference\n",
    "time_from_seizure_onset = sub_level_df['age_at_implant'] - sub_level_df['age_of_seizure_onset']\n",
    "sub_level_df['time_from_seizure_onset'] = time_from_seizure_onset\n",
    "sub_level_df.corr('pearson') # check the new correlation"
   ]
  },
  {
   "cell_type": "code",
   "execution_count": 64,
   "id": "9bf14b88-8cda-4774-be3a-4dcb94568086",
   "metadata": {},
   "outputs": [
    {
     "data": {
      "text/html": [
       "<div>\n",
       "<style scoped>\n",
       "    .dataframe tbody tr th:only-of-type {\n",
       "        vertical-align: middle;\n",
       "    }\n",
       "\n",
       "    .dataframe tbody tr th {\n",
       "        vertical-align: top;\n",
       "    }\n",
       "\n",
       "    .dataframe thead th {\n",
       "        text-align: right;\n",
       "    }\n",
       "</style>\n",
       "<table border=\"1\" class=\"dataframe\">\n",
       "  <thead>\n",
       "    <tr style=\"text-align: right;\">\n",
       "      <th></th>\n",
       "      <th>IQ</th>\n",
       "      <th>age_at_implant</th>\n",
       "      <th>binary_prior_neuro</th>\n",
       "      <th>time_from_seizure_onset</th>\n",
       "    </tr>\n",
       "  </thead>\n",
       "  <tbody>\n",
       "    <tr>\n",
       "      <th>IQ</th>\n",
       "      <td>1.000000</td>\n",
       "      <td>-0.037334</td>\n",
       "      <td>-0.081702</td>\n",
       "      <td>-0.016846</td>\n",
       "    </tr>\n",
       "    <tr>\n",
       "      <th>age_at_implant</th>\n",
       "      <td>-0.037334</td>\n",
       "      <td>1.000000</td>\n",
       "      <td>0.133299</td>\n",
       "      <td>0.376015</td>\n",
       "    </tr>\n",
       "    <tr>\n",
       "      <th>binary_prior_neuro</th>\n",
       "      <td>-0.081702</td>\n",
       "      <td>0.133299</td>\n",
       "      <td>1.000000</td>\n",
       "      <td>-0.219926</td>\n",
       "    </tr>\n",
       "    <tr>\n",
       "      <th>time_from_seizure_onset</th>\n",
       "      <td>-0.016846</td>\n",
       "      <td>0.376015</td>\n",
       "      <td>-0.219926</td>\n",
       "      <td>1.000000</td>\n",
       "    </tr>\n",
       "  </tbody>\n",
       "</table>\n",
       "</div>"
      ],
      "text/plain": [
       "                               IQ  age_at_implant  binary_prior_neuro  \\\n",
       "IQ                       1.000000       -0.037334           -0.081702   \n",
       "age_at_implant          -0.037334        1.000000            0.133299   \n",
       "binary_prior_neuro      -0.081702        0.133299            1.000000   \n",
       "time_from_seizure_onset -0.016846        0.376015           -0.219926   \n",
       "\n",
       "                         time_from_seizure_onset  \n",
       "IQ                                     -0.016846  \n",
       "age_at_implant                          0.376015  \n",
       "binary_prior_neuro                     -0.219926  \n",
       "time_from_seizure_onset                 1.000000  "
      ]
     },
     "execution_count": 64,
     "metadata": {},
     "output_type": "execute_result"
    }
   ],
   "source": [
    "small_df = sub_level_df.drop(columns=['BAI','BDI','age_of_seizure_onset'])\n",
    "small_df.corr('pearson') # check the new correlation"
   ]
  },
  {
   "cell_type": "markdown",
   "id": "dec59458-6c65-4fb0-86af-98de9d1a0288",
   "metadata": {},
   "source": [
    "Check p-values of the correlation"
   ]
  },
  {
   "cell_type": "code",
   "execution_count": 62,
   "id": "a0c4e2bd-c450-476e-a9a1-4a25392fed3e",
   "metadata": {},
   "outputs": [
    {
     "data": {
      "text/html": [
       "<div>\n",
       "<style scoped>\n",
       "    .dataframe tbody tr th:only-of-type {\n",
       "        vertical-align: middle;\n",
       "    }\n",
       "\n",
       "    .dataframe tbody tr th {\n",
       "        vertical-align: top;\n",
       "    }\n",
       "\n",
       "    .dataframe thead th {\n",
       "        text-align: right;\n",
       "    }\n",
       "</style>\n",
       "<table border=\"1\" class=\"dataframe\">\n",
       "  <thead>\n",
       "    <tr style=\"text-align: right;\">\n",
       "      <th></th>\n",
       "      <th>p_val</th>\n",
       "      <th>r</th>\n",
       "      <th>var1</th>\n",
       "      <th>var2</th>\n",
       "    </tr>\n",
       "  </thead>\n",
       "  <tbody>\n",
       "    <tr>\n",
       "      <th>0</th>\n",
       "      <td>0.000000e+00</td>\n",
       "      <td>1.000000</td>\n",
       "      <td>IQ</td>\n",
       "      <td>IQ</td>\n",
       "    </tr>\n",
       "    <tr>\n",
       "      <th>1</th>\n",
       "      <td>8.861419e-01</td>\n",
       "      <td>-0.013810</td>\n",
       "      <td>IQ</td>\n",
       "      <td>age_of_seizure_onset</td>\n",
       "    </tr>\n",
       "    <tr>\n",
       "      <th>2</th>\n",
       "      <td>3.939553e-01</td>\n",
       "      <td>-0.081702</td>\n",
       "      <td>IQ</td>\n",
       "      <td>binary_prior_neuro</td>\n",
       "    </tr>\n",
       "    <tr>\n",
       "      <th>3</th>\n",
       "      <td>8.619709e-01</td>\n",
       "      <td>-0.016846</td>\n",
       "      <td>IQ</td>\n",
       "      <td>time_from_seizure_onset</td>\n",
       "    </tr>\n",
       "    <tr>\n",
       "      <th>4</th>\n",
       "      <td>8.861419e-01</td>\n",
       "      <td>-0.013810</td>\n",
       "      <td>age_of_seizure_onset</td>\n",
       "      <td>IQ</td>\n",
       "    </tr>\n",
       "    <tr>\n",
       "      <th>5</th>\n",
       "      <td>0.000000e+00</td>\n",
       "      <td>1.000000</td>\n",
       "      <td>age_of_seizure_onset</td>\n",
       "      <td>age_of_seizure_onset</td>\n",
       "    </tr>\n",
       "    <tr>\n",
       "      <th>6</th>\n",
       "      <td>8.269905e-04</td>\n",
       "      <td>0.303731</td>\n",
       "      <td>age_of_seizure_onset</td>\n",
       "      <td>binary_prior_neuro</td>\n",
       "    </tr>\n",
       "    <tr>\n",
       "      <th>7</th>\n",
       "      <td>1.897307e-12</td>\n",
       "      <td>-0.592826</td>\n",
       "      <td>age_of_seizure_onset</td>\n",
       "      <td>time_from_seizure_onset</td>\n",
       "    </tr>\n",
       "    <tr>\n",
       "      <th>8</th>\n",
       "      <td>3.939553e-01</td>\n",
       "      <td>-0.081702</td>\n",
       "      <td>binary_prior_neuro</td>\n",
       "      <td>IQ</td>\n",
       "    </tr>\n",
       "    <tr>\n",
       "      <th>9</th>\n",
       "      <td>8.269905e-04</td>\n",
       "      <td>0.303731</td>\n",
       "      <td>binary_prior_neuro</td>\n",
       "      <td>age_of_seizure_onset</td>\n",
       "    </tr>\n",
       "    <tr>\n",
       "      <th>10</th>\n",
       "      <td>0.000000e+00</td>\n",
       "      <td>1.000000</td>\n",
       "      <td>binary_prior_neuro</td>\n",
       "      <td>binary_prior_neuro</td>\n",
       "    </tr>\n",
       "    <tr>\n",
       "      <th>11</th>\n",
       "      <td>1.719216e-02</td>\n",
       "      <td>-0.219926</td>\n",
       "      <td>binary_prior_neuro</td>\n",
       "      <td>time_from_seizure_onset</td>\n",
       "    </tr>\n",
       "    <tr>\n",
       "      <th>12</th>\n",
       "      <td>8.619709e-01</td>\n",
       "      <td>-0.016846</td>\n",
       "      <td>time_from_seizure_onset</td>\n",
       "      <td>IQ</td>\n",
       "    </tr>\n",
       "    <tr>\n",
       "      <th>13</th>\n",
       "      <td>1.897307e-12</td>\n",
       "      <td>-0.592826</td>\n",
       "      <td>time_from_seizure_onset</td>\n",
       "      <td>age_of_seizure_onset</td>\n",
       "    </tr>\n",
       "    <tr>\n",
       "      <th>14</th>\n",
       "      <td>1.719216e-02</td>\n",
       "      <td>-0.219926</td>\n",
       "      <td>time_from_seizure_onset</td>\n",
       "      <td>binary_prior_neuro</td>\n",
       "    </tr>\n",
       "    <tr>\n",
       "      <th>15</th>\n",
       "      <td>0.000000e+00</td>\n",
       "      <td>1.000000</td>\n",
       "      <td>time_from_seizure_onset</td>\n",
       "      <td>time_from_seizure_onset</td>\n",
       "    </tr>\n",
       "  </tbody>\n",
       "</table>\n",
       "</div>"
      ],
      "text/plain": [
       "           p_val         r                     var1                     var2\n",
       "0   0.000000e+00  1.000000                       IQ                       IQ\n",
       "1   8.861419e-01 -0.013810                       IQ     age_of_seizure_onset\n",
       "2   3.939553e-01 -0.081702                       IQ       binary_prior_neuro\n",
       "3   8.619709e-01 -0.016846                       IQ  time_from_seizure_onset\n",
       "4   8.861419e-01 -0.013810     age_of_seizure_onset                       IQ\n",
       "5   0.000000e+00  1.000000     age_of_seizure_onset     age_of_seizure_onset\n",
       "6   8.269905e-04  0.303731     age_of_seizure_onset       binary_prior_neuro\n",
       "7   1.897307e-12 -0.592826     age_of_seizure_onset  time_from_seizure_onset\n",
       "8   3.939553e-01 -0.081702       binary_prior_neuro                       IQ\n",
       "9   8.269905e-04  0.303731       binary_prior_neuro     age_of_seizure_onset\n",
       "10  0.000000e+00  1.000000       binary_prior_neuro       binary_prior_neuro\n",
       "11  1.719216e-02 -0.219926       binary_prior_neuro  time_from_seizure_onset\n",
       "12  8.619709e-01 -0.016846  time_from_seizure_onset                       IQ\n",
       "13  1.897307e-12 -0.592826  time_from_seizure_onset     age_of_seizure_onset\n",
       "14  1.719216e-02 -0.219926  time_from_seizure_onset       binary_prior_neuro\n",
       "15  0.000000e+00  1.000000  time_from_seizure_onset  time_from_seizure_onset"
      ]
     },
     "execution_count": 62,
     "metadata": {},
     "output_type": "execute_result"
    }
   ],
   "source": [
    "\n",
    "continous_sub_level_df = sub_level_df.drop(columns=['gender','subject','BDI','BAI','age_at_implant'])\n",
    "corr_mat = pd.DataFrame([])\n",
    "corr_mat1 = pd.DataFrame([])\n",
    "\n",
    "for column_name1 in continous_sub_level_df.columns:\n",
    "    for column_name2 in continous_sub_level_df.columns:\n",
    "        new_df=sub_level_df.dropna(subset=[column_name1,column_name2])\n",
    "        r,p=stats.pearsonr(new_df[column_name1],new_df[column_name2])\n",
    "        corr_mat = corr_mat.append({'var1': column_name1, 'var2':column_name2,\n",
    "                                    'p_val': p, 'r':r},ignore_index=True )\n",
    "        corr_mat1 = corr_mat.append({column_name1: column_name1, 'var2':column_name2,\n",
    "                                    'p_val': p, 'r':r},ignore_index=True )\n",
    "\n",
    "corr_mat"
   ]
  },
  {
   "cell_type": "markdown",
   "id": "5daa12d7-7a7d-4014-8d78-408d2eeb8478",
   "metadata": {},
   "source": [
    "### Check if anxiety predicts intrusions beyond depression using lmm"
   ]
  },
  {
   "cell_type": "markdown",
   "id": "8daf02a4-01d3-4e1f-8c32-dd57f946c6bc",
   "metadata": {},
   "source": [
    "Anxiety predicts intrusions beyond depression, but not the otherway around"
   ]
  },
  {
   "cell_type": "code",
   "execution_count": 70,
   "id": "6e44f6d3-536b-46a1-b53c-059959c6b35e",
   "metadata": {},
   "outputs": [],
   "source": [
    "df_master = df_master.dropna(subset=['average_total_ints'])"
   ]
  },
  {
   "cell_type": "code",
   "execution_count": 71,
   "id": "b640ce00-d803-4766-998a-f42110a02d96",
   "metadata": {},
   "outputs": [
    {
     "name": "stdout",
     "output_type": "stream",
     "text": [
      "             Mixed Linear Model Regression Results\n",
      "================================================================\n",
      "Model:            MixedLM Dependent Variable: average_total_ints\n",
      "No. Observations: 401     Method:             ML                \n",
      "No. Groups:       120     Scale:              0.2375            \n",
      "Min. group size:  1       Log-Likelihood:     -484.8649         \n",
      "Max. group size:  10      Converged:          Yes               \n",
      "Mean group size:  3.3                                           \n",
      "------------------------------------------------------------------\n",
      "               Coef.   Std.Err.     z      P>|z|   [0.025   0.975]\n",
      "------------------------------------------------------------------\n",
      "Intercept      0.935      0.071   13.114   0.000    0.795    1.074\n",
      "BDI            0.006      0.005    1.218   0.223   -0.004    0.016\n",
      "session Var    0.483      0.284                                   \n",
      "================================================================\n",
      "\n",
      "             Mixed Linear Model Regression Results\n",
      "================================================================\n",
      "Model:            MixedLM Dependent Variable: average_total_ints\n",
      "No. Observations: 401     Method:             ML                \n",
      "No. Groups:       120     Scale:              0.2385            \n",
      "Min. group size:  1       Log-Likelihood:     -482.6827         \n",
      "Max. group size:  10      Converged:          Yes               \n",
      "Mean group size:  3.3                                           \n",
      "------------------------------------------------------------------\n",
      "               Coef.   Std.Err.     z      P>|z|   [0.025   0.975]\n",
      "------------------------------------------------------------------\n",
      "Intercept      0.871      0.077   11.324   0.000    0.721    1.022\n",
      "BDI            0.000      0.006    0.018   0.985   -0.011    0.011\n",
      "BAI            0.012      0.006    2.097   0.036    0.001    0.023\n",
      "session Var    0.473      0.281                                   \n",
      "================================================================\n",
      "\n",
      "Main effect of anxiety on total intrusions\n",
      "LR test, p value: 4.3644, 0.036697243049230027223117645008\n"
     ]
    }
   ],
   "source": [
    "# what's the difference between: df_master[['average_total_ints','total ints']]\n",
    "\n",
    "vc = {'session': '0 + C(session)'} #the vc formula always varies within the groups parameter, so it will vary within subject \n",
    "# If we want to use list as another nested variable, we can use this:\n",
    "# vc = {'session': '0 + C(session)', 'list': '0 + C(list):C(session)'}\n",
    "\n",
    "## Total number of intrusions:\n",
    "model = sm.MixedLM.from_formula('average_total_ints ~ BDI',vc_formula=vc,  groups='subject', data=df_master) \n",
    "result=model.fit(reml=False, method='nm')\n",
    "llf_one_var =result.llf #log likelihood\n",
    "print(result.summary())\n",
    "\n",
    "# Experiment main effect\n",
    "model = sm.MixedLM.from_formula('average_total_ints ~ BDI + BAI',vc_formula=vc, groups='subject', data=df_master) \n",
    "result=model.fit(reml=False, method='nm')\n",
    "llf_full =result.llf #log likelihood\n",
    "print(result.summary())\n",
    "\n",
    "# Likelihood ratio tests for main effects\n",
    "print('Main effect of anxiety on total intrusions')\n",
    "lr, p = lrtest(llf_one_var, llf_full, df = 1) # Degrees of freedom = number of regressors (i.e. columns in summary table) added when including the effect of interest, for categorical variable with two groups this is df = 1\n",
    "print('LR test, p value: {:.4f}, {:.30f}'.format(lr, p))"
   ]
  },
  {
   "cell_type": "markdown",
   "id": "25e85aca-85f3-48e2-91ab-5e2ae11a91bc",
   "metadata": {},
   "source": [
    "Both anxiety and depression uniquly predict correct-recalls"
   ]
  },
  {
   "cell_type": "code",
   "execution_count": 72,
   "id": "7215ffcc-998f-41cf-8cb3-a0eabc2de57d",
   "metadata": {},
   "outputs": [
    {
     "name": "stdout",
     "output_type": "stream",
     "text": [
      "               Mixed Linear Model Regression Results\n",
      "===================================================================\n",
      "Model:            MixedLM Dependent Variable: average_total_recalls\n",
      "No. Observations: 401     Method:             ML                   \n",
      "No. Groups:       120     Scale:              2.6532               \n",
      "Min. group size:  1       Log-Likelihood:     -795.6549            \n",
      "Max. group size:  10      Converged:          Yes                  \n",
      "Mean group size:  3.3                                              \n",
      "---------------------------------------------------------------------\n",
      "                 Coef.    Std.Err.     z      P>|z|   [0.025   0.975]\n",
      "---------------------------------------------------------------------\n",
      "Intercept         5.051      0.141   35.708   0.000    4.774    5.328\n",
      "BDI              -0.010      0.010   -0.988   0.323   -0.029    0.010\n",
      "session Var       0.454      0.367                                   \n",
      "===================================================================\n",
      "\n",
      "               Mixed Linear Model Regression Results\n",
      "===================================================================\n",
      "Model:            MixedLM Dependent Variable: average_total_recalls\n",
      "No. Observations: 401     Method:             ML                   \n",
      "No. Groups:       120     Scale:              2.5435               \n",
      "Min. group size:  1       Log-Likelihood:     -789.4625            \n",
      "Max. group size:  10      Converged:          Yes                  \n",
      "Mean group size:  3.3                                              \n",
      "---------------------------------------------------------------------\n",
      "                 Coef.    Std.Err.     z      P>|z|   [0.025   0.975]\n",
      "---------------------------------------------------------------------\n",
      "Intercept         4.847      0.150   32.266   0.000    4.552    5.141\n",
      "BDI              -0.030      0.011   -2.675   0.007   -0.052   -0.008\n",
      "BAI               0.040      0.011    3.536   0.000    0.018    0.063\n",
      "session Var       0.471      0.344                                   \n",
      "===================================================================\n",
      "\n",
      "Main effect of anxiety on correct recalls\n",
      "LR test, p value: 12.3848, 0.000432846992005123305281844015\n"
     ]
    }
   ],
   "source": [
    "# what's the difference between: df_master[['average_total_ints','total ints']]\n",
    "\n",
    "vc = {'session': '0 + C(session)'} #the vc formula always varies within the groups parameter, so it will vary within subject \n",
    "# If we want to use list as another nested variable, we can use this:\n",
    "# vc = {'session': '0 + C(session)', 'list': '0 + C(list):C(session)'}\n",
    "\n",
    "## Total number of intrusions:\n",
    "model = sm.MixedLM.from_formula('average_total_recalls ~ BDI',vc_formula=vc,  groups='subject', data=df_master) \n",
    "result=model.fit(reml=False, method='nm')\n",
    "llf_one_var =result.llf #log likelihood\n",
    "print(result.summary())\n",
    "\n",
    "# Experiment main effect\n",
    "model = sm.MixedLM.from_formula('average_total_recalls ~ BDI + BAI',vc_formula=vc, groups='subject', data=df_master) \n",
    "result=model.fit(reml=False, method='nm')\n",
    "llf_full =result.llf #log likelihood\n",
    "print(result.summary())\n",
    "\n",
    "# Likelihood ratio tests for main effects\n",
    "print('Main effect of anxiety on correct recalls')\n",
    "lr, p = lrtest(llf_one_var, llf_full, df = 1) # Degrees of freedom = number of regressors (i.e. columns in summary table) added when including the effect of interest, for categorical variable with two groups this is df = 1\n",
    "print('LR test, p value: {:.4f}, {:.30f}'.format(lr, p))"
   ]
  },
  {
   "cell_type": "code",
   "execution_count": null,
   "id": "c5247443-fc4a-4173-958f-9e168cb3f868",
   "metadata": {},
   "outputs": [],
   "source": []
  }
 ],
 "metadata": {
  "kernelspec": {
   "display_name": "cml3",
   "language": "python",
   "name": "cml3"
  },
  "language_info": {
   "codemirror_mode": {
    "name": "ipython",
    "version": 3
   },
   "file_extension": ".py",
   "mimetype": "text/x-python",
   "name": "python",
   "nbconvert_exporter": "python",
   "pygments_lexer": "ipython3",
   "version": "3.7.7"
  }
 },
 "nbformat": 4,
 "nbformat_minor": 5
}
