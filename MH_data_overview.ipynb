{
 "cells": [
  {
   "cell_type": "code",
   "execution_count": 46,
   "id": "a5a11585-8a88-40d4-8d57-f9d1d85f5e40",
   "metadata": {},
   "outputs": [],
   "source": [
    "import pandas as pd\n",
    "import numpy as np\n",
    "import matplotlib.pyplot as plt\n",
    "import seaborn as sb"
   ]
  },
  {
   "cell_type": "code",
   "execution_count": 47,
   "id": "5f022b5f-34ed-44fd-97bf-60a24c1265c0",
   "metadata": {},
   "outputs": [
    {
     "name": "stdout",
     "output_type": "stream",
     "text": [
      "mean = 490.7230769230769 days\n",
      "median = 171.0 days\n"
     ]
    },
    {
     "data": {
      "image/png": "[encoded data removed]",
      "text/plain": [
       "<Figure size 432x288 with 1 Axes>"
      ]
     },
     "metadata": {
      "needs_background": "light"
     },
     "output_type": "display_data"
    }
   ],
   "source": [
    "#Set to 'All' for aggregate data or a specific site name for site-only data\n",
    "site = 'Jefferson'\n",
    "sd = {'Jefferson', 'Dartmouth', 'Emory', 'UTSW'}\n",
    "\n",
    "if (site != 'All'):\n",
    "    df = pd.read_excel(r'./' + site + '_neuropsych.xlsx')\n",
    "\n",
    "time_gap = []\n",
    "\n",
    "#Will only include sites that have date of report extracted from REDCap\n",
    "if site == 'All':\n",
    "    for k in sd:\n",
    "        try:\n",
    "            df = pd.read_excel(r'./' + k + '_neuropsych.xlsx')\n",
    "            for i in df.index:\n",
    "                gap = df.iloc[i]['Time between report and implant (days)']\n",
    "                if np.isnan(gap)==False:\n",
    "                    time_gap.append(gap)\n",
    "        except:\n",
    "            print('Report dates not available for', k)\n",
    "else:\n",
    "    for i in df.index:\n",
    "        gap = df.iloc[i]['Time between report and implant (days)']\n",
    "        if np.isnan(gap)==False:\n",
    "            time_gap.append(gap)\n",
    "    \n",
    "mean = np.mean(time_gap)\n",
    "med = np.median(time_gap)\n",
    "    \n",
    "time_hist = plt.hist(time_gap, 50)\n",
    "plt.xlabel('Days between report and implant')\n",
    "plt.ylabel('Number of subjects')\n",
    "plt.title('Histogram of Time Gap Between Report and Implant: '+ site)\n",
    "plt.axvline(x=mean, color='k', linestyle='--')\n",
    "plt.axvline(x=med, color='r', linestyle='--')\n",
    "print('mean =', mean, 'days')\n",
    "print('median =', med, 'days')"
   ]
  },
  {
   "cell_type": "code",
   "execution_count": 48,
   "id": "1de02694-7124-4d58-a5dd-39d313b42325",
   "metadata": {},
   "outputs": [
    {
     "name": "stdout",
     "output_type": "stream",
     "text": [
      "mean = 10.013513513513514\n",
      "median = 8.0\n",
      "74 of 84 subjects have BAI = 0.8809523809523809\n",
      "74 of 84 subjects have both scores = 0.8809523809523809\n"
     ]
    },
    {
     "data": {
      "text/plain": [
       "11"
      ]
     },
     "execution_count": 48,
     "metadata": {},
     "output_type": "execute_result"
    },
    {
     "data": {
      "image/png": "[encoded data removed]",
      "text/plain": [
       "<Figure size 432x288 with 1 Axes>"
      ]
     },
     "metadata": {
      "needs_background": "light"
     },
     "output_type": "display_data"
    }
   ],
   "source": [
    "BAI = []\n",
    "count = 0\n",
    "both = 0\n",
    "selected = 0\n",
    "N = 0\n",
    "\n",
    "if site == 'All':\n",
    "    for k in sd:\n",
    "        df = pd.read_excel(r'./' + k + '_neuropsych.xlsx')\n",
    "        for i in df.index:\n",
    "            score = df.iloc[i]['BAI']\n",
    "            if np.isnan(score)==False:\n",
    "                BAI.append(df.iloc[i]['BAI'])\n",
    "                count = count + 1\n",
    "                if df.iloc[i]['BAI'] > 18:\n",
    "                    selected = selected + 1\n",
    "                if np.isnan(df.iloc[i]['BDI'])==False:\n",
    "                    both = both + 1\n",
    "        N = N + len(df.index)\n",
    "else:\n",
    "    for i in df.index:\n",
    "        score = df.iloc[i]['BAI']\n",
    "        if np.isnan(score)==False:\n",
    "            BAI.append(df.iloc[i]['BAI'])\n",
    "            count = count + 1\n",
    "            if df.iloc[i]['BAI'] > 18:\n",
    "                    selected = selected + 1\n",
    "            if np.isnan(df.iloc[i]['BDI'])==False:\n",
    "                both = both + 1\n",
    "    N = len(df.index)\n",
    "    \n",
    "mean = np.mean(BAI)\n",
    "med = np.median(BAI)\n",
    "ratio = float(count/N)\n",
    "brat = float(both/N)\n",
    "    \n",
    "time_hist = plt.hist(BAI, 30)\n",
    "plt.xlabel('BAI score')\n",
    "plt.ylabel('Number of subjects')\n",
    "plt.title('Histogram of BAI Scores: '+ site)\n",
    "plt.axvline(x=mean, color='k', linestyle='--')\n",
    "plt.axvline(x=med, color='r', linestyle='--')\n",
    "print('mean =', mean)\n",
    "print('median =', med)\n",
    "print(count, 'of', N, 'subjects have BAI =', ratio)\n",
    "print(both, 'of', N, 'subjects have both scores =', brat)\n",
    "selected"
   ]
  },
  {
   "cell_type": "code",
   "execution_count": 50,
   "id": "029ab9f4-28d9-4acb-9850-461452c50bd0",
   "metadata": {},
   "outputs": [
    {
     "name": "stdout",
     "output_type": "stream",
     "text": [
      "mean = 11.378378378378379\n",
      "median = 8.5\n",
      "74 of 0 subjects have BDI = 0.8809523809523809\n"
     ]
    },
    {
     "data": {
      "text/plain": [
       "17"
      ]
     },
     "execution_count": 50,
     "metadata": {},
     "output_type": "execute_result"
    },
    {
     "data": {
      "image/png": "[encoded data removed]",
      "text/plain": [
       "<Figure size 432x288 with 1 Axes>"
      ]
     },
     "metadata": {
      "needs_background": "light"
     },
     "output_type": "display_data"
    }
   ],
   "source": [
    "BDI = []\n",
    "count = 0\n",
    "N = 0\n",
    "selected = 0\n",
    "\n",
    "if site == 'All':\n",
    "    for k in sd:\n",
    "        df = pd.read_excel(r'./' + k + '_neuropsych.xlsx')\n",
    "        for i in df.index:\n",
    "            score = df.iloc[i]['BDI']\n",
    "            if np.isnan(score)==False:\n",
    "                BDI.append(df.iloc[i]['BDI'])\n",
    "                count = count + 1\n",
    "                if df.iloc[i]['BDI'] > 16:\n",
    "                    selected = selected + 1\n",
    "        N = N + len(df.index)\n",
    "else:\n",
    "    for i in df.index:\n",
    "        score = df.iloc[i]['BDI']\n",
    "        if np.isnan(score)==False:\n",
    "            BDI.append(df.iloc[i]['BDI'])\n",
    "            count = count + 1\n",
    "            if df.iloc[i]['BDI'] > 16:\n",
    "                    selected = selected + 1\n",
    "                    \n",
    "mean = np.mean(BDI)\n",
    "med = np.median(BDI)\n",
    "#ratio = float(count/N)\n",
    "    \n",
    "time_hist = plt.hist(BDI, 30)\n",
    "plt.xlabel('BDI score')\n",
    "plt.ylabel('Number of subjects')\n",
    "plt.title('Histogram of BDI Scores: '+ site)\n",
    "plt.axvline(x=mean, color='k', linestyle='--')\n",
    "plt.axvline(x=med, color='r', linestyle='--')\n",
    "print('mean =', mean)\n",
    "print('median =', med)\n",
    "print(count, 'of', N, 'subjects have BDI =', ratio)\n",
    "selected"
   ]
  },
  {
   "cell_type": "code",
   "execution_count": 45,
   "id": "b7a0898a-b2ca-4c0d-a028-d09671f8dd3f",
   "metadata": {},
   "outputs": [
    {
     "data": {
      "text/plain": [
       "30"
      ]
     },
     "execution_count": 45,
     "metadata": {},
     "output_type": "execute_result"
    }
   ],
   "source": [
    "norep = []\n",
    "oldrep = []\n",
    "\n",
    "df\n",
    "for i in df.index:\n",
    "    typ = df.iloc[i]['Type of report']\n",
    "    gap = df.iloc[i]['Time between report and implant (days)']\n",
    "    if typ=='None':\n",
    "        norep.append(df.iloc[i]['Subject Number'])\n",
    "    if gap > 182:\n",
    "        oldrep.append(df.iloc[i]['Subject Number'])\n",
    "len(oldrep)"
   ]
  },
  {
   "cell_type": "code",
   "execution_count": null,
   "id": "1b45d375-9d7e-4160-97bb-1d02f4189914",
   "metadata": {},
   "outputs": [],
   "source": []
  }
 ],
 "metadata": {
  "kernelspec": {
   "display_name": "cmlreader0",
   "language": "python",
   "name": "cmlreader0"
  },
  "language_info": {
   "codemirror_mode": {
    "name": "ipython",
    "version": 3
   },
   "file_extension": ".py",
   "mimetype": "text/x-python",
   "name": "python",
   "nbconvert_exporter": "python",
   "pygments_lexer": "ipython3",
   "version": "3.7.7"
  }
 },
 "nbformat": 4,
 "nbformat_minor": 5
}
